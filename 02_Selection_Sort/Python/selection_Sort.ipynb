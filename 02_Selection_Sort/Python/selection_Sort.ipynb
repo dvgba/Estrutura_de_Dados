{
 "cells": [
  {
   "cell_type": "code",
   "execution_count": 59,
   "metadata": {},
   "outputs": [],
   "source": [
    "def selection_sort(array):\n",
    "    n = len(array)\n",
    "    \n",
    "    swap_position = 0\n",
    "    for i in range(n - 1):\n",
    "        \n",
    "        min_index = i\n",
    "        for j in range(i + 1, n):\n",
    "            \n",
    "            if array[j] < array[min_index]:\n",
    "                min_index = j\n",
    "        \n",
    "        array[i], array[min_index] = array[min_index], array[i]\n",
    "        \n",
    "        swap_position += 1\n",
    "    \n",
    "    return swap_position"
   ]
  },
  {
   "cell_type": "code",
   "execution_count": 60,
   "metadata": {},
   "outputs": [],
   "source": [
    "numbers = [64, 34, 25, 12, 22, 11, 90]\n",
    "swap_position = selection_sort(numbers)"
   ]
  },
  {
   "cell_type": "code",
   "execution_count": 62,
   "metadata": {},
   "outputs": [
    {
     "name": "stdout",
     "output_type": "stream",
     "text": [
      "Lista ordenada: [11, 12, 22, 25, 34, 64, 90]\n",
      "Número de ordenações: 6\n"
     ]
    }
   ],
   "source": [
    "print(f\"Lista ordenada: {numbers}\")\n",
    "print(f\"Número de ordenações: {swap_position}\")"
   ]
  }
 ],
 "metadata": {
  "kernelspec": {
   "display_name": "Python 3",
   "language": "python",
   "name": "python3"
  },
  "language_info": {
   "codemirror_mode": {
    "name": "ipython",
    "version": 3
   },
   "file_extension": ".py",
   "mimetype": "text/x-python",
   "name": "python",
   "nbconvert_exporter": "python",
   "pygments_lexer": "ipython3",
   "version": "3.11.4"
  }
 },
 "nbformat": 4,
 "nbformat_minor": 2
}
