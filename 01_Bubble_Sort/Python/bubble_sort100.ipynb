{
 "cells": [
  {
   "cell_type": "markdown",
   "metadata": {},
   "source": [
    "Vamos pedir agora para gerar randomicamente uma array com 100 numeros embaralhados"
   ]
  },
  {
   "cell_type": "code",
   "execution_count": 2,
   "metadata": {},
   "outputs": [
    {
     "name": "stdout",
     "output_type": "stream",
     "text": [
      "[58, 28, 32, 90, 52, 1, 63, 84, 24, 77, 81, 13, 98, 86, 7, 3, 30, 82, 16, 71, 22, 59, 87, 19, 57, 17, 44, 85, 27, 76, 11, 79, 74, 33, 96, 47, 73, 26, 48, 69, 93, 91, 53, 34, 83, 39, 6, 92, 43, 12, 50, 60, 9, 10, 45, 25, 18, 75, 31, 42, 20, 64, 80, 97, 61, 99, 66, 95, 70, 2, 100, 15, 62, 78, 94, 29, 8, 49, 68, 38, 89, 65, 5, 21, 51, 67, 35, 23, 46, 54, 36, 41, 14, 37, 56, 55, 88, 72, 40, 4]\n"
     ]
    }
   ],
   "source": [
    "import random\n",
    "\n",
    "def gerar_array_embaralhado(tamanho):\n",
    "\n",
    "    if tamanho > 0:\n",
    "        return random.sample(range(1, tamanho + 1), tamanho)\n",
    "    else:\n",
    "        print(\"Tamanho inválido. Por favor, forneça um tamanho maior que zero.\")\n",
    "\n",
    "\n",
    "array_embaralhado = gerar_array_embaralhado(100)\n",
    "\n",
    "print(array_embaralhado)"
   ]
  },
  {
   "cell_type": "code",
   "execution_count": 1,
   "metadata": {},
   "outputs": [],
   "source": [
    "def bubble_sort(array):\n",
    "\n",
    "    n = len(array)\n",
    "    swapped = True\n",
    "    swap_counter = 0\n",
    "    swap_positions = []\n",
    "    \n",
    "    while swapped:\n",
    "        swapped = False\n",
    "        \n",
    "        for i in range(1, n):\n",
    "            if array[i - 1] > array[i]:\n",
    "                array[i - 1], array[i] = array[i], array[i - 1]\n",
    "                swapped = True\n",
    "                swap_counter += 1\n",
    "                swap_positions.append(list(array))\n",
    "                \n",
    "    return array, swap_counter, swap_positions"
   ]
  },
  {
   "cell_type": "code",
   "execution_count": 3,
   "metadata": {},
   "outputs": [
    {
     "name": "stdout",
     "output_type": "stream",
     "text": [
      "Array Embaralhado: [97, 93, 1, 76, 65, 52, 3, 90, 41, 61, 25, 50, 86, 47, 12, 32, 51, 78, 35, 44, 81, 72, 83, 34, 94, 38, 28, 89, 33, 77, 45, 31, 10, 54, 20, 4, 59, 40, 92, 99, 100, 18, 53, 27, 70, 46, 2, 74, 75, 14, 73, 9, 49, 5, 15, 63, 88, 56, 57, 26, 67, 22, 80, 96, 64, 60, 6, 39, 36, 23, 87, 79, 17, 24, 68, 84, 66, 58, 21, 43, 85, 42, 11, 91, 69, 48, 7, 37, 29, 16, 19, 82, 8, 55, 62, 95, 30, 71, 13, 98]\n",
      "Array Ordenado: [1, 2, 3, 4, 5, 6, 7, 8, 9, 10, 11, 12, 13, 14, 15, 16, 17, 18, 19, 20, 21, 22, 23, 24, 25, 26, 27, 28, 29, 30, 31, 32, 33, 34, 35, 36, 37, 38, 39, 40, 41, 42, 43, 44, 45, 46, 47, 48, 49, 50, 51, 52, 53, 54, 55, 56, 57, 58, 59, 60, 61, 62, 63, 64, 65, 66, 67, 68, 69, 70, 71, 72, 73, 74, 75, 76, 77, 78, 79, 80, 81, 82, 83, 84, 85, 86, 87, 88, 89, 90, 91, 92, 93, 94, 95, 96, 97, 98, 99, 100]\n",
      "Número de Trocas: 2590\n"
     ]
    }
   ],
   "source": [
    "tamanho_array = 100\n",
    "array_embaralhado = gerar_array_embaralhado(tamanho_array)\n",
    "print(\"Array Embaralhado:\", array_embaralhado)\n",
    "\n",
    "array_ordenado, num_trocas, swap_positions = bubble_sort(array_embaralhado.copy())\n",
    "print(\"Array Ordenado:\", array_ordenado)\n",
    "print(\"Número de Trocas:\", num_trocas)"
   ]
  }
 ],
 "metadata": {
  "kernelspec": {
   "display_name": "Python 3",
   "language": "python",
   "name": "python3"
  },
  "language_info": {
   "codemirror_mode": {
    "name": "ipython",
    "version": 3
   },
   "file_extension": ".py",
   "mimetype": "text/x-python",
   "name": "python",
   "nbconvert_exporter": "python",
   "pygments_lexer": "ipython3",
   "version": "3.11.4"
  }
 },
 "nbformat": 4,
 "nbformat_minor": 2
}
